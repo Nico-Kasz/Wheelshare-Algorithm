{
 "cells": [
  {
   "cell_type": "markdown",
   "id": "f60ca6a9-2c7b-44e9-9565-055a0aedf7c9",
   "metadata": {},
   "source": [
    "<img style=\"float:right\" src=\"https://assets-sports.thescore.com/basketball/team/1647/small_logo.png\" alt=\"Miami Emblem\" style=\"width:50px;\"/> <h1><b>OSMnx Startercode for Vaskar Raychoudhury's WheelShare research group </b></h1>"
   ]
  },
  {
   "cell_type": "markdown",
   "id": "5d30a3ae-2cd6-41c0-8202-dd97d6bb0fec",
   "metadata": {},
   "source": [
    "## Import and install statements to ensure the code below is functional ##"
   ]
  },
  {
   "cell_type": "code",
   "execution_count": null,
   "id": "762bb51d",
   "metadata": {},
   "outputs": [],
   "source": [
    "!pip install -q geopandas\n",
    "!pip install -q osmnx\n",
    "!pip uninstall --yes -q rtree\n",
    "!sudo apt install -q libspatialindex-dev\n",
    "!pip install -q rtree"
   ]
  },
  {
   "cell_type": "code",
   "execution_count": null,
   "id": "1b4659da",
   "metadata": {},
   "outputs": [],
   "source": [
    "import pandas as pd\n",
    "import geopandas as gpd\n",
    "import networkx as nx\n",
    "import matplotlib.pyplot as plt\n",
    "import osmnx as ox\n",
    "import warnings\n",
    "warnings.filterwarnings('ignore')\n",
    "warnings.filterwarnings(action='once')\n",
    "ox.config(log_console=True, use_cache=True,\n",
    "          useful_tags_way = ox.settings.useful_tags_way + ['surface_id', 'surface', 'incline', 'wheelchair'],\n",
    "          useful_tags_node = ox.settings.useful_tags_node + ['wheelchair'])"
   ]
  },
  {
   "cell_type": "markdown",
   "id": "2f784d1f-345d-444c-b2ca-2c04357d4f91",
   "metadata": {},
   "source": [
    "## Define 'create_graph' for future use => can set our own default peramters for OSMnx graph creation ##"
   ]
  },
  {
   "cell_type": "code",
   "execution_count": null,
   "id": "41b458a8",
   "metadata": {},
   "outputs": [],
   "source": [
    "def create_graph(loc, dist, transport_mode, loc_type=\"address\"):\n",
    "  \"\"\"Transport mode = ‘walk’, ‘bike’, ‘drive’, ‘drive_service’, ‘all’, ‘all_private’, ‘none’\"\"\"\n",
    "  if loc_type == \"address\":\n",
    "          G = ox.graph_from_address(loc, dist=dist, network_type=transport_mode)\n",
    "  elif loc_type == \"points\":\n",
    "          G = ox.graph_from_point(loc, dist=dist, network_type=transport_mode )\n",
    "  return G"
   ]
  },
  {
   "cell_type": "markdown",
   "id": "974716c3-50e5-4a70-b20f-78c6b3cbea13",
   "metadata": {
    "tags": []
   },
   "source": [
    "### Define Point (bentons coordinates) and Tags (Dictionary of filters for pulling data) ###"
   ]
  },
  {
   "cell_type": "code",
   "execution_count": null,
   "id": "b64e8e3b",
   "metadata": {},
   "outputs": [],
   "source": [
    "point = 39.51101131560681, -84.7335925887448; #Benton Hall Coordinates\n",
    "tags = {\n",
    "    'surface' : ['concrete','Asphalt']\n",
    "}\n",
    "\n",
    "\n",
    "G = ox.geometries_from_point(point,tags,250)\n",
    "\n",
    "f, ax = plt.subplots(figsize=(7, 7))\n",
    "ax.xaxis.set_visible(False)\n",
    "ax.yaxis.set_visible(False)\n",
    "G.plot(ax=ax);\n",
    "\n",
    "# G returns gdf (GeoDataFrame)\n",
    "G\n",
    "\n",
    "# f returns plot made from G \n",
    "# TODO: convert matplot into oxmnx graph plot.\n",
    "#f "
   ]
  },
  {
   "cell_type": "markdown",
   "id": "860c8ccf-ed0e-4aaf-a5dc-f3de7bd5f3ee",
   "metadata": {
    "jp-MarkdownHeadingCollapsed": true,
    "tags": []
   },
   "source": [
    "<h1><b> Tests </b></h1>"
   ]
  },
  {
   "cell_type": "markdown",
   "id": "58b84bfa-e503-4bdd-91bc-f99fce9883c6",
   "metadata": {},
   "source": [
    "<p>The tests below are to configure the properties needed to display the information we are seeking.<br>Below are some variables needed to run the tests.</p>"
   ]
  },
  {
   "cell_type": "code",
   "execution_count": null,
   "id": "f075de61-153e-47ff-a1de-5bd778d7ad3d",
   "metadata": {},
   "outputs": [],
   "source": [
    "point = 39.51101131560681, -84.7335925887448; "
   ]
  },
  {
   "cell_type": "markdown",
   "id": "07edcc7b-3371-475a-ab62-19340b2c4124",
   "metadata": {
    "tags": []
   },
   "source": [
    "### Test 1: using the create graph method to plot around an address ###"
   ]
  },
  {
   "cell_type": "code",
   "execution_count": null,
   "id": "877c9b4a",
   "metadata": {},
   "outputs": [],
   "source": [
    "#G = create_graph(\"Oxford, OH\", 2000, \"walk\")\n",
    "Graph = create_graph(\"Benton Hall\", 150, \"walk\");\n",
    "ox.plot_graph(Graph, bgcolor='black')"
   ]
  },
  {
   "cell_type": "markdown",
   "id": "afdb9f73-6bbb-47be-a9bf-82e430c20acc",
   "metadata": {
    "tags": []
   },
   "source": [
    "### Test 2: creating a graph from a point and modifying different perameters passed into plot_graph ###"
   ]
  },
  {
   "cell_type": "code",
   "execution_count": null,
   "id": "82cfe56b",
   "metadata": {},
   "outputs": [],
   "source": [
    "#Graph = create_graph(point, 150, \"walk\", \"points\")\n",
    "F = ox.graph_from_point(point, 250, network_type = 'walk', retain_all = True, clean_periphery = True, custom_filter = '[\"surface\"~\"concrete\"]')\n",
    "ox.plot_graph(F, bgcolor='#e9ffeb', node_color = '#383d37', edge_color = '#7d8724', node_size = 35)"
   ]
  },
  {
   "cell_type": "markdown",
   "id": "30811cfe-cdc8-4d89-b1d6-5d10f50667b1",
   "metadata": {
    "tags": []
   },
   "source": [
    "### Test 3: using test 2's graph and converting it into gdf and back into a graph plot ###"
   ]
  },
  {
   "cell_type": "code",
   "execution_count": null,
   "id": "1d2f91dc",
   "metadata": {},
   "outputs": [],
   "source": [
    "nodes, edges = ox.graph_to_gdfs(F)\n",
    "ox.plot_graph(ox.graph_from_gdfs(nodes,edges))"
   ]
  },
  {
   "cell_type": "markdown",
   "id": "db29dbdb-37ff-4585-beea-27473e9766b7",
   "metadata": {
    "tags": []
   },
   "source": [
    "### Test 3.5: same as test 3, however the starting graph was grabbed from an address and had no filter string perameter ### "
   ]
  },
  {
   "cell_type": "code",
   "execution_count": null,
   "id": "2504de76-62f8-47be-b6dd-7b5f0069ab62",
   "metadata": {},
   "outputs": [],
   "source": [
    "nodes, edges = ox.graph_to_gdfs(Graph)\n",
    "ox.plot_graph(ox.graph_from_gdfs(nodes,edges))"
   ]
  },
  {
   "cell_type": "markdown",
   "id": "5e62ebd4-34d2-4a89-9704-b31c65f21731",
   "metadata": {},
   "source": [
    "### Test 4: creates graph around Benton, selects a node at benton to start, and pathes to Armstrong."
   ]
  },
  {
   "cell_type": "code",
   "execution_count": null,
   "id": "04be53fb-8b31-4f03-bcf9-ff4af9cc22ca",
   "metadata": {},
   "outputs": [],
   "source": [
    "Map = ox.graph_from_point(point,1000)\n",
    "\n",
    "start = point #predefined as benton hall\n",
    "end = 39.50802747138995, -84.73306176971025 #location of armstrong studnet center\n",
    "\n",
    "# Throws errors claiming this method is depricated but supports no further documentation on the topic\n",
    "start_node = ox.get_nearest_node(Map,start)\n",
    "end_node = ox.get_nearest_node(Map,end)\n",
    "\n",
    "# Newer version? Not quite sure what the parameters are though. Output doesn't look accurate.\n",
    "#start_node = ox.nearest_nodes(Map,start[0],start[1])\n",
    "#end_node = ox.nearest_nodes(Map,end[0],end[1])\n",
    "\n",
    "route = nx.shortest_path(Map, start_node, end_node, weight = 'length')\n",
    "route"
   ]
  },
  {
   "cell_type": "code",
   "execution_count": null,
   "id": "6027d430-35f9-4315-9586-5e397d9283a3",
   "metadata": {},
   "outputs": [],
   "source": []
  }
 ],
 "metadata": {
  "kernelspec": {
   "display_name": "Python 3 (ipykernel)",
   "language": "python",
   "name": "python3"
  },
  "language_info": {
   "codemirror_mode": {
    "name": "ipython",
    "version": 3
   },
   "file_extension": ".py",
   "mimetype": "text/x-python",
   "name": "python",
   "nbconvert_exporter": "python",
   "pygments_lexer": "ipython3",
   "version": "3.7.10"
  }
 },
 "nbformat": 4,
 "nbformat_minor": 5
}
